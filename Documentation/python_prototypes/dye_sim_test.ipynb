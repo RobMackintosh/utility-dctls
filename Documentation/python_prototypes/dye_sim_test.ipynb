{
 "cells": [
  {
   "cell_type": "code",
   "execution_count": 22,
   "metadata": {},
   "outputs": [],
   "source": [
    "import numpy as np\n",
    "import colour\n",
    "from scipy.optimize import minimize\n",
    "import matplotlib.pyplot as plt\n",
    "\n",
    "import os\n",
    "\n",
    "os.environ[\"OPENCV_IO_ENABLE_OPENEXR\"] = \"1\"\n",
    "import cv2  # type:ignore"
   ]
  },
  {
   "cell_type": "code",
   "execution_count": 23,
   "metadata": {},
   "outputs": [],
   "source": [
    "def gaussian_piecewise(x, params):\n",
    "    # Output represents density\n",
    "    # Ported basically verbatim from the dye sim code\n",
    "    if x < params['mean']:\n",
    "        out = np.exp(-1 * (1.0 / params['left_std'])**2 * (x - params['mean'])**2 / 2.0)\n",
    "    else:\n",
    "        out = np.exp(-1 * (1.0 / params['right_std'])**2 * (x - params['mean'])**2 / 2.0)\n",
    "    out = out * (params['max_value'] - params['min_value']) + params['min_value']\n",
    "    return out\n",
    "\n",
    "def gaussian_piecewise_arr(x, params):\n",
    "    out = []\n",
    "    for entry in x:\n",
    "        out.append(gaussian_piecewise(entry, params))\n",
    "    return np.array(out)\n",
    "\n",
    "def density_to_transmitance(density):\n",
    "    return np.power(10.0, -1.0 * density)"
   ]
  },
  {
   "cell_type": "code",
   "execution_count": 24,
   "metadata": {},
   "outputs": [],
   "source": [
    "def params_converter(params):\n",
    "    # Params is list of 15 values.\n",
    "    # Convert to three dictionaries for cyan, magenta, and yellow\n",
    "    cyan_params = {\n",
    "        'mean': params[0],\n",
    "        'left_std': params[1],\n",
    "        'right_std': params[2],\n",
    "        'min_value': params[3],\n",
    "        'max_value': params[4],\n",
    "    }\n",
    "    magenta_params = {\n",
    "        'mean': params[5],\n",
    "        'left_std': params[6],\n",
    "        'right_std': params[7],\n",
    "        'min_value': params[8],\n",
    "        'max_value': params[9],\n",
    "    }\n",
    "    yellow_params = {\n",
    "        'mean': params[10],\n",
    "        'left_std': params[11],\n",
    "        'right_std': params[12],\n",
    "        'min_value': params[13],\n",
    "        'max_value': params[14],\n",
    "    }\n",
    "\n",
    "    curve_params = {\n",
    "        'red': {\n",
    "            'contrast': params[15],\n",
    "            'offset': params[16],\n",
    "        },\n",
    "        'green': {\n",
    "            'contrast': params[17],\n",
    "            'offset': params[18],\n",
    "        },\n",
    "        'blue': {\n",
    "            'contrast': params[19],\n",
    "            'offset': params[20],\n",
    "        }\n",
    "\n",
    "    }\n",
    "\n",
    "    # cyan2_params = {\n",
    "    #     'mean': params[21],\n",
    "    #     'left_std': params[22],\n",
    "    #     'right_std': params[23],\n",
    "    #     'min_value': params[24],\n",
    "    #     'max_value': params[25],\n",
    "    # }\n",
    "    # return cyan_params, cyan2_params, magenta_params, yellow_params, curve_params\n",
    "    return cyan_params, magenta_params, yellow_params, curve_params\n",
    "\n",
    "init_params = [\n",
    "    651.0, 60.0, 60.0, 0.0, 1.08,\n",
    "    522.0, 50.0, 50.0, 0.0, 0.75,\n",
    "    420.0, 60.0, 60.0, 0.0, 0.82,\n",
    "    4.0, 0.25, 4.0, 0.25, 4.0, 0.25,\n",
    "    # 400.0, 60.0, 40.0, 0.0, 0.5,\n",
    "]\n",
    "\n",
    "bounds = [\n",
    "    (300.0, 800.0),  # Cyan mean\n",
    "    (0.0, 150.0),   # Cyan left std\n",
    "    (0.0, 150.0),   # Cyan right std\n",
    "    (0.0, 0.2),     # Cyan min value\n",
    "    (0.2, 2.5),     # Cyan max value\n",
    "    (300.0, 800.0),  # Magenta mean\n",
    "    (0.0, 150.0),   # Magenta left std\n",
    "    (0.0, 150.0),   # Magenta right std\n",
    "    (0.0, 0.2),     # Magenta min value\n",
    "    (0.2, 2.5),     # Magenta max value\n",
    "    (300.0, 800.0),  # Yellow mean\n",
    "    (0.0, 150.0),   # Yellow left std\n",
    "    (0.0, 150.0),   # Yellow right std\n",
    "    (0.0, 0.2),     # Yellow min value\n",
    "    (0.2, 2.5),     # Yellow max value\n",
    "    (1.0, 6.0),   # Red contrast\n",
    "    (-4.0, 4.0),   # Red offset\n",
    "    (1.0, 6.0),   # Green contrast\n",
    "    (-4.0, 4.0),   # Green offset\n",
    "    (1.0, 6.0),   # Blue contrast\n",
    "    (-4.0, 4.0),   # Blue offset\n",
    "\n",
    "    # (300.0, 800.0),  # Cyan2 mean\n",
    "    # (0.0, 150.0),   # Cyan2 left std\n",
    "    # (0.0, 150.0),   # Cyan2 right std\n",
    "    # (0.0, 0.0),     # Cyan2 min value\n",
    "    # (0.1, 1.5),     # Cyan2 max value\n",
    "]\n",
    "\n",
    "cyan_dye_params, magenta_dye_params, yellow_dye_params, curve_params = params_converter(init_params)\n",
    "# cyan_dye_params, cyan2_dye_params, magenta_dye_params, yellow_dye_params, curve_params = params_converter(init_params)\n",
    "\n",
    "def sigmoid(x):\n",
    "    # Sigmoid function for dye concentration\n",
    "    return 1.0 / (1.0 + np.exp(-x))\n",
    "\n",
    "def cineon_to_dye_concentration(x, chan_curve_params):\n",
    "    density = (x * 1023.0 - 95.0) * 0.002\n",
    "    exposure = 10**(-1.0 * density)\n",
    "    log_exposure = np.log10(exposure)\n",
    "\n",
    "    coeff = chan_curve_params['contrast'] / (0.25 * (4.0 - 0.0))\n",
    "    offset = chan_curve_params['offset']\n",
    "    out = sigmoid(coeff * (log_exposure + offset)) * 4.0 + 0.0\n",
    "    return out\n",
    "\n"
   ]
  },
  {
   "cell_type": "code",
   "execution_count": 25,
   "metadata": {},
   "outputs": [],
   "source": [
    "xyz_cmfs = colour.colorimetry.MSDS_CMFS_STANDARD_OBSERVER[\"CIE 1931 2 Degree Standard Observer\"]\n",
    "wavelengths = xyz_cmfs.wavelengths\n",
    "illuminant = colour.sd_CIE_standard_illuminant_A(xyz_cmfs)\n",
    "\n",
    "# Get the chromatic adaptation matrix from illuminant to D65\n",
    "illuminant_XYZ = colour.sd_to_XYZ(illuminant, xyz_cmfs)\n",
    "d65_sd = colour.SDS_ILLUMINANTS[\"D65\"]\n",
    "d65_XYZ = colour.sd_to_XYZ(d65_sd, xyz_cmfs)\n",
    "\n",
    "def XYZ_to_xy(XYZ):\n",
    "    # Convert XYZ to xy chromaticity coordinates\n",
    "    x, y, z = XYZ\n",
    "    total = x + y + z\n",
    "    if total == 0:\n",
    "        return np.array([0.0, 0.0])\n",
    "    return np.array([x / total, y / total])\n",
    "\n",
    "# Get xy chromaticity coordinates for source (illuminant) and destination (D65)\n",
    "source_white_xy = XYZ_to_xy(illuminant_XYZ)\n",
    "dest_white_xy = XYZ_to_xy(d65_XYZ)\n",
    "\n",
    "# CAT02 matrix\n",
    "cat02_matrix = np.array([\n",
    "    [0.7328, 0.4296, -0.1624],\n",
    "    [-0.7036, 1.6975, 0.0061],\n",
    "    [0.0030, 0.0136, 0.9834]\n",
    "])\n",
    "cat02_inv = np.linalg.inv(cat02_matrix)\n",
    "\n",
    "# Convert xy to XYZ (Y=1)\n",
    "def xy_to_XYZ(xy):\n",
    "    x, y = xy\n",
    "    return np.array([x / y, 1.0, (1 - x - y) / y])\n",
    "\n",
    "source_white = xy_to_XYZ(source_white_xy)\n",
    "dest_white = xy_to_XYZ(dest_white_xy)\n",
    "\n",
    "source_lms = cat02_matrix @ source_white\n",
    "dest_lms = cat02_matrix @ dest_white\n",
    "\n",
    "diag = np.diag(dest_lms / source_lms)\n",
    "adaptation_matrix = cat02_inv @ diag @ cat02_matrix\n",
    "\n",
    "xyz_to_rec709_matrix = [\n",
    "    [ 3.240970, -1.537383, -0.498611],\n",
    "    [-0.969244,  1.875968,  0.041555],\n",
    "    [ 0.055630, -0.203977,  1.056972],\n",
    "]"
   ]
  },
  {
   "cell_type": "code",
   "execution_count": null,
   "metadata": {},
   "outputs": [],
   "source": [
    "cyan_concentration = 1.0\n",
    "magenta_concentration = 0.5\n",
    "yellow_concentration = 0.25\n",
    "\n",
    "def model(params, rgb_cineon):\n",
    "    assert len(rgb_cineon.shape) == 2 and rgb_cineon.shape[1] == 3\n",
    "    output = np.zeros_like(rgb_cineon)\n",
    "    # cyan_dye_params, cyan2_dye_params, magenta_dye_params, yellow_dye_params, curve_params = params_converter(params)\n",
    "    cyan_dye_params, magenta_dye_params, yellow_dye_params, curve_params = params_converter(params)\n",
    "\n",
    "    cyan_sdd = gaussian_piecewise_arr(wavelengths, cyan_dye_params)\n",
    "    # cyan2_sdd = gaussian_piecewise_arr(wavelengths, cyan2_dye_params)\n",
    "\n",
    "    cyan_transmittance = density_to_transmitance(cyan_sdd)\n",
    "    # cyan_transmittance = density_to_transmitance(cyan_sdd + cyan2_sdd)\n",
    "\n",
    "\n",
    "    magenta_sdd = gaussian_piecewise_arr(wavelengths, magenta_dye_params)\n",
    "    magenta_transmittance = density_to_transmitance(magenta_sdd)\n",
    "\n",
    "    yellow_sdd = gaussian_piecewise_arr(wavelengths, yellow_dye_params)\n",
    "    yellow_transmittance = density_to_transmitance(yellow_sdd)\n",
    "\n",
    "    for i in range(rgb_cineon.shape[0]):\n",
    "        rgb = rgb_cineon[i]\n",
    "        cyan_concentration = cineon_to_dye_concentration(rgb[0], curve_params['red'])\n",
    "        magenta_concentration = cineon_to_dye_concentration(rgb[1], curve_params['green'])\n",
    "        yellow_concentration = cineon_to_dye_concentration(rgb[2], curve_params['blue'])\n",
    "\n",
    "        curr_cyan_transmittance = np.power(cyan_transmittance, cyan_concentration)\n",
    "        curr_magenta_transmittance = np.power(magenta_transmittance, magenta_concentration)\n",
    "        curr_yellow_transmittance = np.power(yellow_transmittance, yellow_concentration)\n",
    "\n",
    "        combo_transmittance = curr_cyan_transmittance * curr_magenta_transmittance * curr_yellow_transmittance\n",
    "\n",
    "        combo_transmittance *= illuminant.values / 100.0\n",
    "        xyz = colour.sd_to_XYZ(colour.SpectralDistribution(combo_transmittance, wavelengths), xyz_cmfs) / 100.0\n",
    "        assert xyz.shape == (3,)\n",
    "\n",
    "        rec709_linear = xyz_to_rec709_matrix @ adaptation_matrix @ xyz\n",
    "        rec709_linear = np.clip(rec709_linear, 0.0, 1.0)\n",
    "        output[i] = np.power(rec709_linear, 1.0 / 2.4)\n",
    "\n",
    "    return output\n",
    "\n",
    "\n",
    "def rgb2oklab(rgb):\n",
    "    M1 = np.array([\n",
    "        [0.4122214708, 0.5363325363, 0.0514459929],\n",
    "        [0.2119034982, 0.6806995451, 0.1073969566],\n",
    "        [0.0883024619, 0.2817188376, 0.6299787005]\n",
    "    ])\n",
    "    M2 = np.array([\n",
    "        [0.2104542553, 0.7936177850, -0.0040720468],\n",
    "        [1.9779984951, -2.4285922050, 0.4505937099],\n",
    "        [0.0259040371, 0.7827717662, -0.8086757660]\n",
    "    ])\n",
    "\n",
    "    lin = np.power(rgb, 2.4) # Assume gamma 2.4 encoded image.\n",
    "    lms = np.tensordot(lin, M1.T, axes=1)\n",
    "    lms = np.cbrt(lms)\n",
    "    oklab = np.tensordot(lms, M2.T, axes=1)\n",
    "    return oklab\n",
    "\n",
    "\n",
    "def loss_function(params, rgb_cineon_input, target_output):\n",
    "    output = model(params, rgb_cineon_input)\n",
    "    # loss = np.mean(np.abs(output - target_output))\n",
    "    loss = np.mean((output - target_output)**2)\n",
    "    # target_oklab = rgb2oklab(target_output)\n",
    "    # output_oklab = rgb2oklab(output)\n",
    "    # loss = np.mean(np.abs(output_oklab - target_oklab))\n",
    "    return loss"
   ]
  },
  {
   "cell_type": "code",
   "execution_count": 27,
   "metadata": {},
   "outputs": [],
   "source": [
    "# Unit test\n",
    "\n",
    "# assert np.linalg.norm(model(init_params, np.array([[0.25, 0.25, 0.35]])) - np.array([[ 0.17850025,  0.20860188,  0.313503  ]])) < 1e-5, \"problem!\""
   ]
  },
  {
   "cell_type": "code",
   "execution_count": 28,
   "metadata": {},
   "outputs": [
    {
     "name": "stdout",
     "output_type": "stream",
     "text": [
      "Reading: low_sat_hald0000.exr\n",
      "Read image data type of float32\n",
      "Reading: 2383_lut0000.exr\n",
      "Read image data type of float32\n"
     ]
    },
    {
     "data": {
      "text/plain": [
       "((125, 3), 0.015871475)"
      ]
     },
     "execution_count": 28,
     "metadata": {},
     "output_type": "execute_result"
    }
   ],
   "source": [
    "\n",
    "\n",
    "def open_image(image_fn: str) -> np.ndarray:\n",
    "    print(f\"Reading: {image_fn}\")\n",
    "    os.environ[\"OPENCV_IO_ENABLE_OPENEXR\"] = \"1\"\n",
    "    img: np.ndarray = cv2.imread(image_fn, cv2.IMREAD_ANYCOLOR | cv2.IMREAD_ANYDEPTH)\n",
    "    print(f\"Read image data type of {img.dtype}\")\n",
    "    if img.dtype == np.uint8 or img.dtype == np.uint16:\n",
    "        img = img.astype(np.float32) / np.iinfo(img.dtype).max\n",
    "    img = cv2.cvtColor(img, cv2.COLOR_BGR2RGB)\n",
    "    return img\n",
    "\n",
    "def flatten(image):\n",
    "    # Flatten the image to a 2D array of RGB values\n",
    "    if len(image.shape) == 3 and image.shape[2] == 3:\n",
    "        return image.reshape(-1, 3)\n",
    "    else:\n",
    "        raise ValueError(\"Input image must be a 3-channel RGB image.\")\n",
    "\n",
    "original_rgb_cineon_input = open_image(\"low_sat_hald0000.exr\")\n",
    "image_shape = original_rgb_cineon_input.shape\n",
    "rgb_cineon_input = flatten(original_rgb_cineon_input)\n",
    "\n",
    "original_target_output = open_image(\"2383_lut0000.exr\")\n",
    "target_output = flatten(original_target_output)\n",
    "\n",
    "\n",
    "\n",
    "target_output.shape, loss_function(init_params, rgb_cineon_input, target_output)"
   ]
  },
  {
   "cell_type": "code",
   "execution_count": 29,
   "metadata": {},
   "outputs": [],
   "source": [
    "assert np.linalg.norm(original_target_output - target_output.reshape(image_shape)) < 1e-6\n",
    "assert np.linalg.norm(original_rgb_cineon_input - rgb_cineon_input.reshape(image_shape)) < 1e-6"
   ]
  },
  {
   "cell_type": "code",
   "execution_count": 30,
   "metadata": {},
   "outputs": [
    {
     "name": "stdout",
     "output_type": "stream",
     "text": [
      "Current loss: 0.004475416149944067\n",
      "Current loss: 0.0018036909168586135\n",
      "Current loss: 0.0011790854623541236\n",
      "Current loss: 0.0009545640787109733\n",
      "Current loss: 0.0007109252619557083\n",
      "Current loss: 0.0007020739139989018\n",
      "Current loss: 0.0006974502466619015\n",
      "Current loss: 0.0006909202202223241\n",
      "Current loss: 0.0006883409805595875\n",
      "Current loss: 0.0006820583948865533\n",
      "Current loss: 0.0006807519821450114\n",
      "Current loss: 0.0006786428857594728\n",
      "Current loss: 0.0006775786750949919\n",
      "Current loss: 0.0006503889453597367\n",
      "Current loss: 0.0006456572446040809\n",
      "Current loss: 0.0006423944723792374\n",
      "Current loss: 0.0006336159422062337\n",
      "Current loss: 0.0006286530988290906\n",
      "Current loss: 0.0006113090785220265\n",
      "Current loss: 0.0006085538188926876\n",
      "Current loss: 0.0006084529450163245\n",
      "Current loss: 0.0006081998581066728\n",
      "Current loss: 0.0006073722615838051\n",
      "Current loss: 0.0006071257521398365\n",
      "Current loss: 0.0006300171371549368\n"
     ]
    },
    {
     "data": {
      "text/plain": [
       " message: Optimization terminated successfully.\n",
       " success: True\n",
       "  status: 0\n",
       "     fun: 0.000630017\n",
       "       x: [ 6.686e+02  4.929e+01 ...,  3.399e+00  1.831e-01]\n",
       "     nit: 25\n",
       "   direc: [[ 1.755e+00  1.144e+00 ..., -6.310e-03 -7.832e-03]\n",
       "           [ 0.000e+00  1.000e+00 ...,  0.000e+00  0.000e+00]\n",
       "           ..., \n",
       "           [ 0.000e+00  0.000e+00 ...,  1.000e+00  0.000e+00]\n",
       "           [-4.049e-02 -6.780e-04 ..., -2.845e-03 -1.758e-04]]\n",
       "    nfev: 9977"
      ]
     },
     "execution_count": 30,
     "metadata": {},
     "output_type": "execute_result"
    }
   ],
   "source": [
    "result = minimize(loss_function, init_params, args=(rgb_cineon_input, target_output), bounds=bounds, method='Powell', callback=lambda intermediate_result: print(f\"Current loss: {intermediate_result.fun}\"), options={\"maxiter\": 100})\n",
    "result"
   ]
  },
  {
   "cell_type": "code",
   "execution_count": 31,
   "metadata": {},
   "outputs": [
    {
     "data": {
      "text/plain": [
       "({'mean': 668.5546069568976,\n",
       "  'left_std': 49.290801775496185,\n",
       "  'right_std': 149.58429381590756,\n",
       "  'min_value': 0.086542168722191212,\n",
       "  'max_value': 2.0866536426940305},\n",
       " {'mean': 545.11733066130296,\n",
       "  'left_std': 47.200018910710767,\n",
       "  'right_std': 43.01781433780971,\n",
       "  'min_value': 5.6006716414516617e-05,\n",
       "  'max_value': 0.85429538737306587},\n",
       " {'mean': 445.64759247374292,\n",
       "  'left_std': 71.089082151395189,\n",
       "  'right_std': 34.955617924551703,\n",
       "  'min_value': 0.014804169326172532,\n",
       "  'max_value': 1.408871692054301},\n",
       " {'red': {'contrast': 4.014631496960865, 'offset': 0.22386628440307013},\n",
       "  'green': {'contrast': 3.5210760834952226, 'offset': 0.38359439247639959},\n",
       "  'blue': {'contrast': 3.3993285850768791, 'offset': 0.18313791287601133}})"
      ]
     },
     "execution_count": 31,
     "metadata": {},
     "output_type": "execute_result"
    }
   ],
   "source": [
    "params_converter(result.x)"
   ]
  },
  {
   "cell_type": "code",
   "execution_count": 32,
   "metadata": {},
   "outputs": [
    {
     "data": {
      "text/plain": [
       "0.00063001714"
      ]
     },
     "execution_count": 32,
     "metadata": {},
     "output_type": "execute_result"
    }
   ],
   "source": [
    "loss_function(result.x, rgb_cineon_input, target_output)"
   ]
  },
  {
   "cell_type": "code",
   "execution_count": 33,
   "metadata": {},
   "outputs": [
    {
     "data": {
      "image/png": "[encoded data removed]",
      "text/plain": [
       "<Figure size 1000x400 with 2 Axes>"
      ]
     },
     "metadata": {},
     "output_type": "display_data"
    }
   ],
   "source": [
    "# Apply the model using the optimized parameters\n",
    "predicted_output = model(init_params, rgb_cineon_input).reshape(image_shape)\n",
    "target_img = target_output.reshape(image_shape)\n",
    "\n",
    "plt.figure(figsize=(10, 4))\n",
    "plt.subplot(1, 2, 1)\n",
    "plt.title(\"Model Output\")\n",
    "plt.imshow(np.clip(predicted_output, 0, 1))\n",
    "plt.axis('off')\n",
    "\n",
    "plt.subplot(1, 2, 2)\n",
    "plt.title(\"Target Output\")\n",
    "plt.imshow(np.clip(target_img, 0, 1))\n",
    "plt.axis('off')\n",
    "\n",
    "plt.show()"
   ]
  },
  {
   "cell_type": "code",
   "execution_count": null,
   "metadata": {},
   "outputs": [],
   "source": []
  },
  {
   "cell_type": "code",
   "execution_count": null,
   "metadata": {},
   "outputs": [],
   "source": []
  }
 ],
 "metadata": {
  "kernelspec": {
   "display_name": "utility-dctls-venv",
   "language": "python",
   "name": "python3"
  },
  "language_info": {
   "codemirror_mode": {
    "name": "ipython",
    "version": 3
   },
   "file_extension": ".py",
   "mimetype": "text/x-python",
   "name": "python",
   "nbconvert_exporter": "python",
   "pygments_lexer": "ipython3",
   "version": "3.11.2"
  }
 },
 "nbformat": 4,
 "nbformat_minor": 2
}
