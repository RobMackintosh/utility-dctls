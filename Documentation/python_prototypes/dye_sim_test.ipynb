{
 "cells": [
  {
   "cell_type": "code",
   "execution_count": 85,
   "metadata": {},
   "outputs": [],
   "source": [
    "import numpy as np\n",
    "import colour\n",
    "from scipy.optimize import minimize\n",
    "import matplotlib.pyplot as plt\n",
    "\n",
    "import os\n",
    "\n",
    "os.environ[\"OPENCV_IO_ENABLE_OPENEXR\"] = \"1\"\n",
    "import cv2  # type:ignore"
   ]
  },
  {
   "cell_type": "code",
   "execution_count": 86,
   "metadata": {},
   "outputs": [],
   "source": [
    "def gaussian_piecewise(x, params):\n",
    "    # Output represents density\n",
    "    # Ported basically verbatim from the dye sim code\n",
    "    if x < params['mean']:\n",
    "        out = np.exp(-1 * (1.0 / params['left_std'])**2 * (x - params['mean'])**2 / 2.0)\n",
    "    else:\n",
    "        out = np.exp(-1 * (1.0 / params['right_std'])**2 * (x - params['mean'])**2 / 2.0)\n",
    "    out = out * (params['max_value'] - params['min_value']) + params['min_value']\n",
    "    return out\n",
    "\n",
    "def gaussian_piecewise_arr(x, params):\n",
    "    out = []\n",
    "    for entry in x:\n",
    "        out.append(gaussian_piecewise(entry, params))\n",
    "    return np.array(out)\n",
    "\n",
    "def density_to_transmitance(density):\n",
    "    return np.power(10.0, -1.0 * density)"
   ]
  },
  {
   "cell_type": "code",
   "execution_count": 87,
   "metadata": {},
   "outputs": [],
   "source": [
    "def params_converter(params):\n",
    "    # Params is list of 15 values.\n",
    "    # Convert to three dictionaries for cyan, magenta, and yellow\n",
    "    cyan_params = {\n",
    "        'mean': params[0],\n",
    "        'left_std': params[1],\n",
    "        'right_std': params[2],\n",
    "        'min_value': params[3],\n",
    "        'max_value': params[4],\n",
    "    }\n",
    "    magenta_params = {\n",
    "        'mean': params[5],\n",
    "        'left_std': params[6],\n",
    "        'right_std': params[7],\n",
    "        'min_value': params[8],\n",
    "        # 'max_value': params[9],\n",
    "        'max_value': 1.0,\n",
    "    }\n",
    "    yellow_params = {\n",
    "        'mean': params[10],\n",
    "        'left_std': params[11],\n",
    "        'right_std': params[12],\n",
    "        'min_value': params[13],\n",
    "        'max_value': params[14],\n",
    "    }\n",
    "\n",
    "    curve_params = {\n",
    "        'red': {\n",
    "            'contrast': params[15],\n",
    "            'offset': params[16],\n",
    "        },\n",
    "        'green': {\n",
    "            'contrast': params[17],\n",
    "            'offset': params[18],\n",
    "        },\n",
    "        'blue': {\n",
    "            'contrast': params[19],\n",
    "            'offset': params[20],\n",
    "        }\n",
    "\n",
    "    }\n",
    "    return cyan_params, magenta_params, yellow_params, curve_params\n",
    "\n",
    "init_params = [\n",
    "    651.0, 60.0, 60.0, 0.0, 1.08,\n",
    "    522.0, 50.0, 50.0, 0.0, 0.75,\n",
    "    420.0, 60.0, 60.0, 0.0, 0.82,\n",
    "    4.0, 0.25, 4.0, 0.25, 4.0, 0.25,\n",
    "]\n",
    "\n",
    "bounds = [\n",
    "    (300.0, 800.0),  # Cyan mean\n",
    "    (0.0, 150.0),   # Cyan left std\n",
    "    (0.0, 150.0),   # Cyan right std\n",
    "    (0.0, 0.2),     # Cyan min value\n",
    "    (0.2, 2.5),     # Cyan max value\n",
    "    (300.0, 800.0),  # Magenta mean\n",
    "    (0.0, 150.0),   # Magenta left std\n",
    "    (0.0, 150.0),   # Magenta right std\n",
    "    (0.0, 0.2),     # Magenta min value\n",
    "    (0.2, 2.5),     # Magenta max value\n",
    "    (300.0, 800.0),  # Yellow mean\n",
    "    (0.0, 150.0),   # Yellow left std\n",
    "    (0.0, 150.0),   # Yellow right std\n",
    "    (0.0, 0.2),     # Yellow min value\n",
    "    (0.2, 2.5),     # Yellow max value\n",
    "    (1.0, 6.0),   # Red contrast\n",
    "    (-4.0, 4.0),   # Red offset\n",
    "    (1.0, 6.0),   # Green contrast\n",
    "    (-4.0, 4.0),   # Green offset\n",
    "    (1.0, 6.0),   # Blue contrast\n",
    "    (-4.0, 4.0),   # Blue offset\n",
    "]\n",
    "\n",
    "\n",
    "# 360 to 780 nm in 10 nm steps, log10 spectral product\n",
    "status_a_sensitivities = np.array([\n",
    "    [-62.232, -29.150, -19.198],\n",
    "    [-59.532, -26.950, -15.398],\n",
    "    [-56.832, -24.750, -11.598],\n",
    "    [-54.132, -22.550, -7.798],\n",
    "    [-51.432, -20.350, -3.998],\n",
    "    [-48.732, -18.150, -0.198],\n",
    "    [-46.032, -15.950, 3.602],\n",
    "    [-43.332, -13.750, 4.819],\n",
    "    [-40.632, -11.550, 5.000],\n",
    "    [-37.932, -9.350, 4.912],\n",
    "    [-35.232, -7.150, 4.620],\n",
    "    [-32.532, -4.950, 4.040],\n",
    "    [-29.832, -2.750, 2.989],\n",
    "    [-27.132, -0.550, 1.566],\n",
    "    [-24.432, 1.650, 0.165],\n",
    "    [-21.732, 3.822, -1.235],\n",
    "    [-19.032, 4.782, -2.635],\n",
    "    [-16.332, 5.000, -4.035],\n",
    "    [-13.632, 4.906, -5.435],\n",
    "    [-10.932, 4.644, -6.835],\n",
    "    [-8.232, 4.221, -8.235],\n",
    "    [-5.532, 3.609, -9.635],\n",
    "    [-2.832, 2.766, -11.035],\n",
    "    [-0.132, 1.579, -12.435],\n",
    "    [2.568, -0.121, -13.835],\n",
    "    [4.638, -1.821, -15.235],\n",
    "    [5.000, -3.521, -16.635],\n",
    "    [4.871, -5.221, -18.035],\n",
    "    [4.604, -6.921, -19.435],\n",
    "    [4.286, -8.621, -20.835],\n",
    "    [3.900, -10.321, -22.235],\n",
    "    [3.551, -12.021, -23.635],\n",
    "    [3.165, -13.721, -25.035],\n",
    "    [2.776, -15.421, -26.435],\n",
    "    [2.383, -17.121, -27.835],\n",
    "    [1.970, -18.821, -29.235],\n",
    "    [1.551, -20.521, -30.635],\n",
    "    [1.141, -22.221, -32.035],\n",
    "    [0.741, -23.921, -33.435],\n",
    "    [0.341, -25.621, -34.835],\n",
    "    [-0.059, -27.321, -36.235],\n",
    "    [-0.459, -29.021, -37.635],\n",
    "    [-0.859, -30.721, -39.035],\n",
    "])\n",
    "status_a_cmfs = colour.MultiSpectralDistributions(\n",
    "    {lmbd : 10 ** status_a_sensitivities[i] for i, lmbd in enumerate(range(360, 790, 10))},\n",
    ")\n",
    "\n",
    "cyan_dye_params, magenta_dye_params, yellow_dye_params, curve_params = params_converter(init_params)\n",
    "\n",
    "def sigmoid(x):\n",
    "    # Sigmoid function for dye concentration\n",
    "    return 1.0 / (1.0 + np.exp(-x))\n",
    "\n",
    "def cineon_to_dye_concentration(x, chan_curve_params):\n",
    "    density = (x * 1023.0 - 95.0) * 0.002\n",
    "    exposure = 10**(-1.0 * density)\n",
    "    log_exposure = np.log10(exposure)\n",
    "\n",
    "    coeff = chan_curve_params['contrast'] / (0.25 * (4.0 - 0.0))\n",
    "    offset = chan_curve_params['offset']\n",
    "    out = sigmoid(coeff * (log_exposure + offset)) * 4.0 + 0.0\n",
    "    return out\n",
    "\n"
   ]
  },
  {
   "cell_type": "code",
   "execution_count": 88,
   "metadata": {},
   "outputs": [],
   "source": [
    "xyz_cmfs = colour.colorimetry.MSDS_CMFS_STANDARD_OBSERVER[\"CIE 1931 2 Degree Standard Observer\"]\n",
    "wavelengths = xyz_cmfs.wavelengths\n",
    "illuminant = colour.sd_CIE_standard_illuminant_A(xyz_cmfs)\n",
    "\n",
    "# Get the chromatic adaptation matrix from illuminant to D65\n",
    "illuminant_XYZ = colour.sd_to_XYZ(illuminant, xyz_cmfs)\n",
    "d65_sd = colour.SDS_ILLUMINANTS[\"D65\"]\n",
    "d65_XYZ = colour.sd_to_XYZ(d65_sd, xyz_cmfs)\n",
    "\n",
    "def XYZ_to_xy(XYZ):\n",
    "    # Convert XYZ to xy chromaticity coordinates\n",
    "    x, y, z = XYZ\n",
    "    total = x + y + z\n",
    "    if total == 0:\n",
    "        return np.array([0.0, 0.0])\n",
    "    return np.array([x / total, y / total])\n",
    "\n",
    "# Get xy chromaticity coordinates for source (illuminant) and destination (D65)\n",
    "source_white_xy = XYZ_to_xy(illuminant_XYZ)\n",
    "dest_white_xy = XYZ_to_xy(d65_XYZ)\n",
    "\n",
    "# CAT02 matrix\n",
    "cat02_matrix = np.array([\n",
    "    [0.7328, 0.4296, -0.1624],\n",
    "    [-0.7036, 1.6975, 0.0061],\n",
    "    [0.0030, 0.0136, 0.9834]\n",
    "])\n",
    "cat02_inv = np.linalg.inv(cat02_matrix)\n",
    "\n",
    "# Convert xy to XYZ (Y=1)\n",
    "def xy_to_XYZ(xy):\n",
    "    x, y = xy\n",
    "    return np.array([x / y, 1.0, (1 - x - y) / y])\n",
    "\n",
    "source_white = xy_to_XYZ(source_white_xy)\n",
    "dest_white = xy_to_XYZ(dest_white_xy)\n",
    "\n",
    "source_lms = cat02_matrix @ source_white\n",
    "dest_lms = cat02_matrix @ dest_white\n",
    "\n",
    "diag = np.diag(dest_lms / source_lms)\n",
    "adaptation_matrix = cat02_inv @ diag @ cat02_matrix\n",
    "\n",
    "xyz_to_rec709_matrix = [\n",
    "    [ 3.240970, -1.537383, -0.498611],\n",
    "    [-0.969244,  1.875968,  0.041555],\n",
    "    [ 0.055630, -0.203977,  1.056972],\n",
    "]"
   ]
  },
  {
   "cell_type": "code",
   "execution_count": 89,
   "metadata": {},
   "outputs": [],
   "source": [
    "cyan_concentration = 1.0\n",
    "magenta_concentration = 0.5\n",
    "yellow_concentration = 0.25\n",
    "\n",
    "def model(params, rgb_cineon):\n",
    "    assert len(rgb_cineon.shape) == 2 and rgb_cineon.shape[1] == 3\n",
    "    output = np.zeros_like(rgb_cineon)\n",
    "    cyan_dye_params, magenta_dye_params, yellow_dye_params, curve_params = params_converter(params)\n",
    "\n",
    "    cyan_sdd = gaussian_piecewise_arr(wavelengths, cyan_dye_params)\n",
    "\n",
    "    cyan_transmittance = density_to_transmitance(cyan_sdd)\n",
    "\n",
    "\n",
    "    magenta_sdd = gaussian_piecewise_arr(wavelengths, magenta_dye_params)\n",
    "    magenta_transmittance = density_to_transmitance(magenta_sdd)\n",
    "\n",
    "    yellow_sdd = gaussian_piecewise_arr(wavelengths, yellow_dye_params)\n",
    "    yellow_transmittance = density_to_transmitance(yellow_sdd)\n",
    "\n",
    "    for i in range(rgb_cineon.shape[0]):\n",
    "        rgb = rgb_cineon[i]\n",
    "        cyan_concentration = cineon_to_dye_concentration(rgb[0], curve_params['red'])\n",
    "        magenta_concentration = cineon_to_dye_concentration(rgb[1], curve_params['red'])\n",
    "        yellow_concentration = cineon_to_dye_concentration(rgb[2], curve_params['red'])\n",
    "\n",
    "        curr_cyan_transmittance = np.power(cyan_transmittance, cyan_concentration)\n",
    "        curr_magenta_transmittance = np.power(magenta_transmittance, magenta_concentration)\n",
    "        curr_yellow_transmittance = np.power(yellow_transmittance, yellow_concentration)\n",
    "\n",
    "        combo_transmittance = curr_cyan_transmittance * curr_magenta_transmittance * curr_yellow_transmittance\n",
    "\n",
    "        # combo_transmittance *= illuminant.values / 100.0\n",
    "        # xyz = colour.sd_to_XYZ(colour.SpectralDistribution(combo_transmittance, wavelengths), xyz_cmfs) / 100.0\n",
    "\n",
    "        # assert xyz.shape == (3,)\n",
    "\n",
    "        # rec709_linear = xyz_to_rec709_matrix @ adaptation_matrix @ xyz\n",
    "        # rec709_linear = np.clip(rec709_linear, 0.0, 1.0)\n",
    "        # output[i] = np.power(rec709_linear, 1.0 / 2.4)\n",
    "\n",
    "        output[i] = np.power(colour.sd_to_XYZ(colour.SpectralDistribution(combo_transmittance, wavelengths), status_a_cmfs) / 100.0, 1.0 / 2.4)\n",
    "\n",
    "    return output\n",
    "\n",
    "\n",
    "def rgb2oklab(rgb):\n",
    "    M1 = np.array([\n",
    "        [0.4122214708, 0.5363325363, 0.0514459929],\n",
    "        [0.2119034982, 0.6806995451, 0.1073969566],\n",
    "        [0.0883024619, 0.2817188376, 0.6299787005]\n",
    "    ])\n",
    "    M2 = np.array([\n",
    "        [0.2104542553, 0.7936177850, -0.0040720468],\n",
    "        [1.9779984951, -2.4285922050, 0.4505937099],\n",
    "        [0.0259040371, 0.7827717662, -0.8086757660]\n",
    "    ])\n",
    "\n",
    "    lin = np.power(rgb, 2.4) # Assume gamma 2.4 encoded image.\n",
    "    lms = np.tensordot(lin, M1.T, axes=1)\n",
    "    lms = np.cbrt(lms)\n",
    "    oklab = np.tensordot(lms, M2.T, axes=1)\n",
    "    return oklab\n",
    "\n",
    "\n",
    "def loss_function(params, rgb_cineon_input, target_output):\n",
    "    output = model(params, rgb_cineon_input)\n",
    "    # loss = np.mean(np.abs(output - target_output))\n",
    "    loss = np.mean((output - target_output)**2)\n",
    "    # target_oklab = rgb2oklab(target_output)\n",
    "    # output_oklab = rgb2oklab(output)\n",
    "    # loss = np.mean(np.abs(output_oklab - target_oklab))\n",
    "    return loss"
   ]
  },
  {
   "cell_type": "code",
   "execution_count": 90,
   "metadata": {},
   "outputs": [],
   "source": [
    "# Unit test\n",
    "\n",
    "# assert np.linalg.norm(model(init_params, np.array([[0.25, 0.25, 0.35]])) - np.array([[ 0.17850025,  0.20860188,  0.313503  ]])) < 1e-5, \"problem!\""
   ]
  },
  {
   "cell_type": "code",
   "execution_count": 91,
   "metadata": {},
   "outputs": [
    {
     "name": "stdout",
     "output_type": "stream",
     "text": [
      "Reading: low_sat_hald0000.exr\n",
      "Read image data type of float32\n",
      "Reading: 2383_lut0000.exr\n",
      "Read image data type of float32\n"
     ]
    },
    {
     "data": {
      "text/plain": [
       "((125, 3), 0.010315454)"
      ]
     },
     "execution_count": 91,
     "metadata": {},
     "output_type": "execute_result"
    }
   ],
   "source": [
    "\n",
    "\n",
    "def open_image(image_fn: str) -> np.ndarray:\n",
    "    print(f\"Reading: {image_fn}\")\n",
    "    os.environ[\"OPENCV_IO_ENABLE_OPENEXR\"] = \"1\"\n",
    "    img: np.ndarray = cv2.imread(image_fn, cv2.IMREAD_ANYCOLOR | cv2.IMREAD_ANYDEPTH)\n",
    "    print(f\"Read image data type of {img.dtype}\")\n",
    "    if img.dtype == np.uint8 or img.dtype == np.uint16:\n",
    "        img = img.astype(np.float32) / np.iinfo(img.dtype).max\n",
    "    img = cv2.cvtColor(img, cv2.COLOR_BGR2RGB)\n",
    "    return img\n",
    "\n",
    "def flatten(image):\n",
    "    # Flatten the image to a 2D array of RGB values\n",
    "    if len(image.shape) == 3 and image.shape[2] == 3:\n",
    "        return image.reshape(-1, 3)\n",
    "    else:\n",
    "        raise ValueError(\"Input image must be a 3-channel RGB image.\")\n",
    "\n",
    "original_rgb_cineon_input = open_image(\"low_sat_hald0000.exr\")\n",
    "image_shape = original_rgb_cineon_input.shape\n",
    "rgb_cineon_input = flatten(original_rgb_cineon_input)\n",
    "\n",
    "original_target_output = open_image(\"2383_lut0000.exr\")\n",
    "target_output = flatten(original_target_output)\n",
    "\n",
    "\n",
    "\n",
    "target_output.shape, loss_function(init_params, rgb_cineon_input, target_output)"
   ]
  },
  {
   "cell_type": "code",
   "execution_count": null,
   "metadata": {},
   "outputs": [],
   "source": [
    "# Apply the model using the initial parameters\n",
    "predicted_output = model(init_params, rgb_cineon_input).reshape(image_shape)\n",
    "target_img = target_output.reshape(image_shape)\n",
    "\n",
    "plt.figure(figsize=(10, 4))\n",
    "plt.subplot(1, 2, 1)\n",
    "plt.title(\"Model Output\")\n",
    "plt.imshow(np.clip(predicted_output, 0, 1))\n",
    "plt.axis('off')\n",
    "\n",
    "plt.subplot(1, 2, 2)\n",
    "plt.title(\"Target Output\")\n",
    "plt.imshow(np.clip(target_img, 0, 1))\n",
    "plt.axis('off')\n",
    "\n",
    "plt.show()"
   ]
  },
  {
   "cell_type": "code",
   "execution_count": 92,
   "metadata": {},
   "outputs": [],
   "source": [
    "assert np.linalg.norm(original_target_output - target_output.reshape(image_shape)) < 1e-6\n",
    "assert np.linalg.norm(original_rgb_cineon_input - rgb_cineon_input.reshape(image_shape)) < 1e-6"
   ]
  },
  {
   "cell_type": "code",
   "execution_count": 93,
   "metadata": {},
   "outputs": [
    {
     "name": "stdout",
     "output_type": "stream",
     "text": [
      "Current loss: 0.0050913249142467976\n",
      "Current loss: 0.0031678099185228348\n",
      "Current loss: 0.0022946896497160196\n",
      "Current loss: 0.0021243628580123186\n",
      "Current loss: 0.002046979498118162\n",
      "Current loss: 0.0019165846752002835\n"
     ]
    },
    {
     "name": "stderr",
     "output_type": "stream",
     "text": [
      "/var/folders/hq/hmwml30119vdrkc5_qz6t96w0000gn/T/ipykernel_61027/665375118.py:5: RuntimeWarning: divide by zero encountered in scalar divide\n",
      "  out = np.exp(-1 * (1.0 / params['left_std'])**2 * (x - params['mean'])**2 / 2.0)\n"
     ]
    },
    {
     "name": "stdout",
     "output_type": "stream",
     "text": [
      "Current loss: 0.0018106673378497362\n",
      "Current loss: 0.0016624367563053966\n",
      "Current loss: 0.0017269427189603448\n"
     ]
    },
    {
     "data": {
      "text/plain": [
       " message: Optimization terminated successfully.\n",
       " success: True\n",
       "  status: 0\n",
       "     fun: 0.00172694\n",
       "       x: [ 6.758e+02  7.488e+01 ...,  6.000e+00  4.000e+00]\n",
       "     nit: 9\n",
       "   direc: [[ 0.000e+00  0.000e+00 ...,  0.000e+00  1.000e+00]\n",
       "           [-1.194e-07  6.181e-06 ..., -8.517e-16 -1.597e-15]\n",
       "           ..., \n",
       "           [ 0.000e+00  0.000e+00 ...,  1.000e+00  0.000e+00]\n",
       "           [ 4.860e+00 -1.079e+00 ..., -1.013e-15 -9.897e-13]]\n",
       "    nfev: 4016"
      ]
     },
     "execution_count": 93,
     "metadata": {},
     "output_type": "execute_result"
    }
   ],
   "source": [
    "result = minimize(loss_function, init_params, args=(rgb_cineon_input, target_output), bounds=bounds, method='Powell', callback=lambda intermediate_result: print(f\"Current loss: {intermediate_result.fun}\"), options={\"maxiter\": 100})\n",
    "result"
   ]
  },
  {
   "cell_type": "code",
   "execution_count": 94,
   "metadata": {},
   "outputs": [
    {
     "data": {
      "text/plain": [
       "({'mean': 675.77050989116401,\n",
       "  'left_std': 74.875206959702908,\n",
       "  'right_std': 55.399504791011282,\n",
       "  'min_value': 0.0133709257632257,\n",
       "  'max_value': 1.9658418164521534},\n",
       " {'mean': 532.6153983631599,\n",
       "  'left_std': 53.224258536873052,\n",
       "  'right_std': 37.027588813552214,\n",
       "  'min_value': 5.6006715735824434e-05,\n",
       "  'max_value': 1.0},\n",
       " {'mean': 418.83403265456769,\n",
       "  'left_std': 149.6846034072332,\n",
       "  'right_std': 51.56389825691965,\n",
       "  'min_value': 5.6006716414516617e-05,\n",
       "  'max_value': 1.4391924756306655},\n",
       " {'red': {'contrast': 3.8524840640659859, 'offset': 0.26450742847654329},\n",
       "  'green': {'contrast': 5.999955304650503, 'offset': 3.9999561743284002},\n",
       "  'blue': {'contrast': 5.999955304650503, 'offset': 3.9999561743299732}})"
      ]
     },
     "execution_count": 94,
     "metadata": {},
     "output_type": "execute_result"
    }
   ],
   "source": [
    "params_converter(result.x)"
   ]
  },
  {
   "cell_type": "code",
   "execution_count": 95,
   "metadata": {},
   "outputs": [
    {
     "data": {
      "text/plain": [
       "0.0017269427"
      ]
     },
     "execution_count": 95,
     "metadata": {},
     "output_type": "execute_result"
    }
   ],
   "source": [
    "loss_function(result.x, rgb_cineon_input, target_output)"
   ]
  },
  {
   "cell_type": "code",
   "execution_count": 96,
   "metadata": {},
   "outputs": [
    {
     "data": {
      "image/png": "[encoded data removed]",
      "text/plain": [
       "<Figure size 1000x400 with 2 Axes>"
      ]
     },
     "metadata": {},
     "output_type": "display_data"
    }
   ],
   "source": [
    "# Apply the model using the optimized parameters\n",
    "predicted_output = model(result.x, rgb_cineon_input).reshape(image_shape)\n",
    "target_img = target_output.reshape(image_shape)\n",
    "\n",
    "plt.figure(figsize=(10, 4))\n",
    "plt.subplot(1, 2, 1)\n",
    "plt.title(\"Model Output\")\n",
    "plt.imshow(np.clip(predicted_output, 0, 1))\n",
    "plt.axis('off')\n",
    "\n",
    "plt.subplot(1, 2, 2)\n",
    "plt.title(\"Target Output\")\n",
    "plt.imshow(np.clip(target_img, 0, 1))\n",
    "plt.axis('off')\n",
    "\n",
    "plt.show()"
   ]
  },
  {
   "cell_type": "code",
   "execution_count": null,
   "metadata": {},
   "outputs": [],
   "source": []
  },
  {
   "cell_type": "code",
   "execution_count": null,
   "metadata": {},
   "outputs": [],
   "source": []
  }
 ],
 "metadata": {
  "kernelspec": {
   "display_name": "utility-dctls-venv",
   "language": "python",
   "name": "python3"
  },
  "language_info": {
   "codemirror_mode": {
    "name": "ipython",
    "version": 3
   },
   "file_extension": ".py",
   "mimetype": "text/x-python",
   "name": "python",
   "nbconvert_exporter": "python",
   "pygments_lexer": "ipython3",
   "version": "3.11.2"
  }
 },
 "nbformat": 4,
 "nbformat_minor": 2
}
